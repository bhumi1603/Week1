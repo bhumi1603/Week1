{
 "cells": [
  {
   "cell_type": "code",
   "execution_count": 3,
   "metadata": {},
   "outputs": [],
   "source": [
    "import pickle\n",
    "import pandas as pd\n",
    "import numpy as np\n",
    "from sklearn.neural_network import MLPRegressor\n",
    "\n",
    "class my_aqi_predictor():\n",
    "    def __init__(self):\n",
    "        pass\n",
    "    \n",
    "    def deserialize(self):\n",
    "        # de-serialize decisionTree.pkl file into an object called model using pickle\n",
    "        with open('decisionTree.pkl', 'rb') as handle:\n",
    "            model = pickle.load(handle)\n",
    "        return model   # ✅ Fixed indentation\n",
    "    \n",
    "    def predict(self, PM25, PM10, CO, NO2, O3, NH3, SO2, TEMPRATURE, ALTITUDE, HUMIDITY, Year, Month, Day, Hour, Weekday):\n",
    "        model = self.deserialize()\n",
    "        features = np.array([[PM25, PM10, CO, NO2, O3, NH3, SO2, TEMPRATURE, ALTITUDE, HUMIDITY, Year, Month, Day, Hour, Weekday]])\n",
    "        return model.predict(features)\n"
   ]
  }
 ],
 "metadata": {
  "kernelspec": {
   "display_name": ".venv (3.10.11)",
   "language": "python",
   "name": "python3"
  },
  "language_info": {
   "codemirror_mode": {
    "name": "ipython",
    "version": 3
   },
   "file_extension": ".py",
   "mimetype": "text/x-python",
   "name": "python",
   "nbconvert_exporter": "python",
   "pygments_lexer": "ipython3",
   "version": "3.10.11"
  }
 },
 "nbformat": 4,
 "nbformat_minor": 4
}
