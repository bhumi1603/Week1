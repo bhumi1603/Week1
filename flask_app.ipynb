{
 "cells": [
  {
   "cell_type": "code",
   "execution_count": 1,
   "metadata": {},
   "outputs": [],
   "source": [
    "\n",
    "import json\n",
    "import os\n",
    "from flask import Flask,jsonify,request\n",
    "from flask_cors import CORS\n",
    "from predictor import my_aqi_predictor\n",
    "\n",
    "app = Flask(__name__)\n",
    "CORS(app)\n",
    "@app.route(\"/aqi/\",methods=['GET'])\n",
    "def return_aqi():\n",
    "    PM25 = request.args.get('PM25')\n",
    "    PM10 = request.args.get('PM10')\n",
    "    CO = request.args.get('CO')\n",
    "    NO2 = request.args.get('NO2')\n",
    "    O3 = request.args.get('O3')\n",
    "    NH3 = request.args.get('NH3')\n",
    "    SO2 = request.args.get('SO2')\n",
    "    TEMPRATURE = request.args.get('TEMPRATURE')\n",
    "    ALTITUDE = request.args.get('ALTITUDE')\n",
    "    HUMIDITY = request.args.get('HUMIDITY')\n",
    "    Day = request.args.get('Day')\n",
    "    Month = request.args.get('Month')\n",
    "    Year = request.args.get('Year')\n",
    "    Weekday = request.args.get('Weekday')\n",
    "    Hour = request.args.get('Hour')\n",
    "    AQI = my_aqi_predictor.predict(PM25,PM10,CO,NO2,O3,NH3,SO2,TEMPRATURE,ALTITUDE,HUMIDITY,Year,Month,Day,Hour,Weekday) \n",
    "    aqi_dict = {\n",
    "                'model':'decisionTree',\n",
    "                'aqi': AQI,\n",
    "                }\n",
    "    return jsonify(aqi_dict)\n",
    "\n",
    "@app.route(\"/\",methods=['GET'])\n",
    "def default():\n",
    "  return \"<h1> Welcome to AQI predictor <h1>\"\n",
    "\n",
    "if __name__ == \"__main__\":\n",
    "    app.run() "
   ]
  }
 ],
 "metadata": {
  "kernelspec": {
   "display_name": ".venv (3.10.11)",
   "language": "python",
   "name": "python3"
  },
  "language_info": {
   "codemirror_mode": {
    "name": "ipython",
    "version": 3
   },
   "file_extension": ".py",
   "mimetype": "text/x-python",
   "name": "python",
   "nbconvert_exporter": "python",
   "pygments_lexer": "ipython3",
   "version": "3.10.11"
  }
 },
 "nbformat": 4,
 "nbformat_minor": 4
}
